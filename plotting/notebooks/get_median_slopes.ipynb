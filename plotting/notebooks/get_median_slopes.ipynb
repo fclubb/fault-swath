{
 "cells": [
  {
   "cell_type": "code",
   "execution_count": 1,
   "metadata": {},
   "outputs": [],
   "source": [
    "# import modules\n",
    "import pandas as pd\n",
    "import geopandas as gpd\n",
    "import numpy as np\n",
    "from shapely.geometry import Point"
   ]
  },
  {
   "cell_type": "code",
   "execution_count": 2,
   "metadata": {},
   "outputs": [],
   "source": [
    "def percentile(n):\n",
    "    def percentile_(x):\n",
    "        return np.percentile(x, n)\n",
    "    percentile_.__name__ = 'percentile_%s' % n\n",
    "    return percentile_"
   ]
  },
  {
   "cell_type": "code",
   "execution_count": 3,
   "metadata": {},
   "outputs": [
    {
     "data": {
      "text/plain": [
       "Index(['basin_id', 'id', 'node', 'distance_from_outlet', 'elevation',\n",
       "       'drainage_area', 'stream_order', 'slope', 'latitude', 'longitude',\n",
       "       'new_id', 'fault_dist', 'direction'],\n",
       "      dtype='object')"
      ]
     },
     "execution_count": 3,
     "metadata": {},
     "output_type": "execute_result"
    }
   ],
   "source": [
    "# read in the river profile CSV\n",
    "data_dir = '/media/TopographicData/TopographicData/san_andreas/SAF_combined/SAF_only/'\n",
    "df = pd.read_csv(data_dir+'SAF_only_profiles_fault_dist_SO3.csv')\n",
    "df = df[df['slope'] > 0]\n",
    "df.columns"
   ]
  },
  {
   "cell_type": "code",
   "execution_count": 14,
   "metadata": {},
   "outputs": [],
   "source": [
    "# read in the hillslope metrics CSV\n",
    "hs_df = pd.read_csv(data_dir+'SAF_only_hillslopes_SO3.csv')"
   ]
  },
  {
   "cell_type": "code",
   "execution_count": 15,
   "metadata": {},
   "outputs": [],
   "source": [
    "# read in the hilltop metrics CSV\n",
    "ht_df = pd.read_csv(data_dir+'SAF_only_RidgeData_SO3.csv')"
   ]
  },
  {
   "cell_type": "code",
   "execution_count": 4,
   "metadata": {},
   "outputs": [],
   "source": [
    "# convert the river csv to a geodataframe. Remove the non-unique ID labels - these will be replaced by unique basin IDs\n",
    "geometry = [Point(xy) for xy in zip(df.longitude, df.latitude)]\n",
    "crs = {\"init\": \"EPSG:4326\"} #http://www.spatialreference.org/ref/epsg/2263/\n",
    "river_gdf = gpd.GeoDataFrame(df.drop(['latitude','longitude','basin_id','id','new_id','node'], axis=1), crs=crs, geometry=geometry)"
   ]
  },
  {
   "cell_type": "code",
   "execution_count": 5,
   "metadata": {},
   "outputs": [
    {
     "data": {
      "text/html": [
       "<div>\n",
       "<style scoped>\n",
       "    .dataframe tbody tr th:only-of-type {\n",
       "        vertical-align: middle;\n",
       "    }\n",
       "\n",
       "    .dataframe tbody tr th {\n",
       "        vertical-align: top;\n",
       "    }\n",
       "\n",
       "    .dataframe thead th {\n",
       "        text-align: right;\n",
       "    }\n",
       "</style>\n",
       "<table border=\"1\" class=\"dataframe\">\n",
       "  <thead>\n",
       "    <tr style=\"text-align: right;\">\n",
       "      <th></th>\n",
       "      <th>distance_from_outlet</th>\n",
       "      <th>elevation</th>\n",
       "      <th>drainage_area</th>\n",
       "      <th>stream_order</th>\n",
       "      <th>slope</th>\n",
       "      <th>fault_dist</th>\n",
       "      <th>direction</th>\n",
       "      <th>geometry</th>\n",
       "    </tr>\n",
       "  </thead>\n",
       "  <tbody>\n",
       "    <tr>\n",
       "      <th>0</th>\n",
       "      <td>472.956000</td>\n",
       "      <td>754.330000</td>\n",
       "      <td>1443</td>\n",
       "      <td>1</td>\n",
       "      <td>0.280238</td>\n",
       "      <td>524.210347</td>\n",
       "      <td>-0.000194</td>\n",
       "      <td>POINT (-120.77122 36.20501)</td>\n",
       "    </tr>\n",
       "    <tr>\n",
       "      <th>1</th>\n",
       "      <td>471.541504</td>\n",
       "      <td>754.309998</td>\n",
       "      <td>1445</td>\n",
       "      <td>1</td>\n",
       "      <td>0.284092</td>\n",
       "      <td>524.210347</td>\n",
       "      <td>-0.000194</td>\n",
       "      <td>POINT (-120.77121 36.20502)</td>\n",
       "    </tr>\n",
       "    <tr>\n",
       "      <th>2</th>\n",
       "      <td>470.541504</td>\n",
       "      <td>753.969971</td>\n",
       "      <td>1446</td>\n",
       "      <td>1</td>\n",
       "      <td>0.288058</td>\n",
       "      <td>524.210347</td>\n",
       "      <td>-0.000194</td>\n",
       "      <td>POINT (-120.77120 36.20503)</td>\n",
       "    </tr>\n",
       "    <tr>\n",
       "      <th>3</th>\n",
       "      <td>469.541504</td>\n",
       "      <td>753.500000</td>\n",
       "      <td>1449</td>\n",
       "      <td>1</td>\n",
       "      <td>0.289001</td>\n",
       "      <td>524.210347</td>\n",
       "      <td>-0.000195</td>\n",
       "      <td>POINT (-120.77119 36.20503)</td>\n",
       "    </tr>\n",
       "    <tr>\n",
       "      <th>4</th>\n",
       "      <td>468.541504</td>\n",
       "      <td>752.979980</td>\n",
       "      <td>1450</td>\n",
       "      <td>1</td>\n",
       "      <td>0.289479</td>\n",
       "      <td>524.210347</td>\n",
       "      <td>-0.000195</td>\n",
       "      <td>POINT (-120.77118 36.20503)</td>\n",
       "    </tr>\n",
       "    <tr>\n",
       "      <th>...</th>\n",
       "      <td>...</td>\n",
       "      <td>...</td>\n",
       "      <td>...</td>\n",
       "      <td>...</td>\n",
       "      <td>...</td>\n",
       "      <td>...</td>\n",
       "      <td>...</td>\n",
       "      <td>...</td>\n",
       "    </tr>\n",
       "    <tr>\n",
       "      <th>5993315</th>\n",
       "      <td>3.414214</td>\n",
       "      <td>19.459999</td>\n",
       "      <td>56283</td>\n",
       "      <td>3</td>\n",
       "      <td>0.034965</td>\n",
       "      <td>1061.679334</td>\n",
       "      <td>0.000049</td>\n",
       "      <td>POINT (-116.03499 33.61016)</td>\n",
       "    </tr>\n",
       "    <tr>\n",
       "      <th>5993316</th>\n",
       "      <td>2.414214</td>\n",
       "      <td>19.430000</td>\n",
       "      <td>56300</td>\n",
       "      <td>3</td>\n",
       "      <td>0.034903</td>\n",
       "      <td>1061.679334</td>\n",
       "      <td>0.000049</td>\n",
       "      <td>POINT (-116.03500 33.61016)</td>\n",
       "    </tr>\n",
       "    <tr>\n",
       "      <th>5993317</th>\n",
       "      <td>1.000000</td>\n",
       "      <td>19.369999</td>\n",
       "      <td>56363</td>\n",
       "      <td>3</td>\n",
       "      <td>0.035012</td>\n",
       "      <td>1061.679334</td>\n",
       "      <td>0.000049</td>\n",
       "      <td>POINT (-116.03501 33.61016)</td>\n",
       "    </tr>\n",
       "    <tr>\n",
       "      <th>5993318</th>\n",
       "      <td>0.000000</td>\n",
       "      <td>19.330000</td>\n",
       "      <td>56364</td>\n",
       "      <td>3</td>\n",
       "      <td>0.034542</td>\n",
       "      <td>1061.679334</td>\n",
       "      <td>0.000049</td>\n",
       "      <td>POINT (-116.03502 33.61017)</td>\n",
       "    </tr>\n",
       "    <tr>\n",
       "      <th>5993319</th>\n",
       "      <td>0.000000</td>\n",
       "      <td>19.270001</td>\n",
       "      <td>121246</td>\n",
       "      <td>4</td>\n",
       "      <td>0.034709</td>\n",
       "      <td>1061.679334</td>\n",
       "      <td>0.000049</td>\n",
       "      <td>POINT (-116.03502 33.61018)</td>\n",
       "    </tr>\n",
       "  </tbody>\n",
       "</table>\n",
       "<p>5993320 rows × 8 columns</p>\n",
       "</div>"
      ],
      "text/plain": [
       "         distance_from_outlet   elevation  drainage_area  stream_order  \\\n",
       "0                  472.956000  754.330000           1443             1   \n",
       "1                  471.541504  754.309998           1445             1   \n",
       "2                  470.541504  753.969971           1446             1   \n",
       "3                  469.541504  753.500000           1449             1   \n",
       "4                  468.541504  752.979980           1450             1   \n",
       "...                       ...         ...            ...           ...   \n",
       "5993315              3.414214   19.459999          56283             3   \n",
       "5993316              2.414214   19.430000          56300             3   \n",
       "5993317              1.000000   19.369999          56363             3   \n",
       "5993318              0.000000   19.330000          56364             3   \n",
       "5993319              0.000000   19.270001         121246             4   \n",
       "\n",
       "            slope   fault_dist  direction                     geometry  \n",
       "0        0.280238   524.210347  -0.000194  POINT (-120.77122 36.20501)  \n",
       "1        0.284092   524.210347  -0.000194  POINT (-120.77121 36.20502)  \n",
       "2        0.288058   524.210347  -0.000194  POINT (-120.77120 36.20503)  \n",
       "3        0.289001   524.210347  -0.000195  POINT (-120.77119 36.20503)  \n",
       "4        0.289479   524.210347  -0.000195  POINT (-120.77118 36.20503)  \n",
       "...           ...          ...        ...                          ...  \n",
       "5993315  0.034965  1061.679334   0.000049  POINT (-116.03499 33.61016)  \n",
       "5993316  0.034903  1061.679334   0.000049  POINT (-116.03500 33.61016)  \n",
       "5993317  0.035012  1061.679334   0.000049  POINT (-116.03501 33.61016)  \n",
       "5993318  0.034542  1061.679334   0.000049  POINT (-116.03502 33.61017)  \n",
       "5993319  0.034709  1061.679334   0.000049  POINT (-116.03502 33.61018)  \n",
       "\n",
       "[5993320 rows x 8 columns]"
      ]
     },
     "execution_count": 5,
     "metadata": {},
     "output_type": "execute_result"
    }
   ],
   "source": [
    "river_gdf"
   ]
  },
  {
   "cell_type": "code",
   "execution_count": 7,
   "metadata": {},
   "outputs": [],
   "source": [
    "# convert the hillslope csv to a geodataframe. Remove the non-unique ID labels\n",
    "geometry = [Point(xy) for xy in zip(hs_df.longitude, hs_df.latitude)]\n",
    "hs_gdf = gpd.GeoDataFrame(hs_df.drop(['latitude','longitude','basin_id','new_id'], axis=1), crs=crs, geometry=geometry)"
   ]
  },
  {
   "cell_type": "code",
   "execution_count": 8,
   "metadata": {},
   "outputs": [],
   "source": [
    "# convert the hilltop csv to a geodataframe. Remove the non-unique ID labels\n",
    "geometry = [Point(xy) for xy in zip(ht_df.longitude, ht_df.latitude)]\n",
    "ht_gdf = gpd.GeoDataFrame(ht_df.drop(['latitude','longitude','basin_id','new_id'], axis=1), crs=crs, geometry=geometry)"
   ]
  },
  {
   "cell_type": "code",
   "execution_count": 6,
   "metadata": {},
   "outputs": [],
   "source": [
    "# add a unique id to the basin\n",
    "basin_gdf = gpd.read_file(data_dir+'SAF_only_basins_deflection.shp', crs=crs)\n",
    "basin_gdf = basin_gdf.drop(['basin_id'], axis=1)\n",
    "basin_gdf['unique_id'] = basin_gdf.index"
   ]
  },
  {
   "cell_type": "code",
   "execution_count": null,
   "metadata": {},
   "outputs": [],
   "source": [
    "basin_gdf.crs"
   ]
  },
  {
   "cell_type": "code",
   "execution_count": null,
   "metadata": {},
   "outputs": [
    {
     "name": "stderr",
     "output_type": "stream",
     "text": [
      "/home/bjdd72/miniconda3/lib/python3.7/site-packages/geopandas/tools/sjoin.py:61: UserWarning: CRS of frames being joined does not match!(EPSG:4326 != {'init': 'epsg:4326'})\n",
      "  \"(%s != %s)\" % (left_df.crs, right_df.crs)\n"
     ]
    }
   ],
   "source": [
    "# merge the river and basins gdf and calculate the median channel slope in each basin\n",
    "join = gpd.sjoin(river_gdf, basin_gdf, how='left', op='intersects')"
   ]
  },
  {
   "cell_type": "code",
   "execution_count": null,
   "metadata": {},
   "outputs": [],
   "source": [
    "gr = join.groupby(['unique_id'])['slope'].agg(['median', 'std', percentile(16), percentile(84)]).rename(columns={'median': 'channel_slope_median', 'std': 'channel_slope_std', 'percentile_16': 'channel_slope_16th', 'percentile_84': 'channel_slope_84th'}).reset_index()"
   ]
  },
  {
   "cell_type": "code",
   "execution_count": null,
   "metadata": {},
   "outputs": [],
   "source": [
    "basin_gdf = basin_gdf.merge(gr, on='unique_id')"
   ]
  },
  {
   "cell_type": "code",
   "execution_count": null,
   "metadata": {},
   "outputs": [],
   "source": [
    "# now join the hillslope data\n",
    "join = gpd.sjoin(basin_gdf, hs_gdf, how='left', op='contains')"
   ]
  },
  {
   "cell_type": "code",
   "execution_count": null,
   "metadata": {},
   "outputs": [],
   "source": [
    "join"
   ]
  },
  {
   "cell_type": "code",
   "execution_count": null,
   "metadata": {},
   "outputs": [],
   "source": [
    "# now join the hilltop data - find points within the basin and get the median curvature in each basin\n",
    "ht_join = gpd.sjoin(ht_gdf, join, how='left', op='within')\n",
    "gr = ht_join.groupby(['unique_id'])['curvature'].agg(['median', 'std', percentile(16), percentile(84)]).rename(columns={'median': 'ht_curv_median', 'std': 'ht_curv_std', 'percentile_16': 'ht_curv_16th', 'percentile_84': 'ht_curv_84th'}).reset_index()"
   ]
  },
  {
   "cell_type": "code",
   "execution_count": null,
   "metadata": {},
   "outputs": [],
   "source": [
    "gr"
   ]
  },
  {
   "cell_type": "code",
   "execution_count": null,
   "metadata": {},
   "outputs": [],
   "source": [
    "join = join.merge(gr, on='unique_id')"
   ]
  },
  {
   "cell_type": "code",
   "execution_count": null,
   "metadata": {},
   "outputs": [],
   "source": [
    "len(join.unique_id.unique())"
   ]
  },
  {
   "cell_type": "code",
   "execution_count": null,
   "metadata": {},
   "outputs": [],
   "source": [
    "join.to_file(data_dir+'SAF_only_channels_plus_hilltops_by_basin_SO3.shp')"
   ]
  },
  {
   "cell_type": "code",
   "execution_count": null,
   "metadata": {},
   "outputs": [],
   "source": [
    "len(join)"
   ]
  },
  {
   "cell_type": "code",
   "execution_count": null,
   "metadata": {},
   "outputs": [],
   "source": []
  }
 ],
 "metadata": {
  "kernelspec": {
   "display_name": "Python 3",
   "language": "python",
   "name": "python3"
  },
  "language_info": {
   "codemirror_mode": {
    "name": "ipython",
    "version": 3
   },
   "file_extension": ".py",
   "mimetype": "text/x-python",
   "name": "python",
   "nbconvert_exporter": "python",
   "pygments_lexer": "ipython3",
   "version": "3.7.6"
  }
 },
 "nbformat": 4,
 "nbformat_minor": 4
}
