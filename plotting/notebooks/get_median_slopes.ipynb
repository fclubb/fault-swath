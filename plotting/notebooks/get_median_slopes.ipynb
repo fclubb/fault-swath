{
 "cells": [
  {
   "cell_type": "code",
   "execution_count": 1,
   "metadata": {},
   "outputs": [],
   "source": [
    "# import modules\n",
    "import pandas as pd\n",
    "import geopandas as gpd\n",
    "import numpy as np\n",
    "from shapely.geometry import Point"
   ]
  },
  {
   "cell_type": "code",
   "execution_count": 2,
   "metadata": {},
   "outputs": [],
   "source": [
    "def percentile(n):\n",
    "    def percentile_(x):\n",
    "        return np.percentile(x, n)\n",
    "    percentile_.__name__ = 'percentile_%s' % n\n",
    "    return percentile_"
   ]
  },
  {
   "cell_type": "code",
   "execution_count": 3,
   "metadata": {},
   "outputs": [
    {
     "data": {
      "text/plain": [
       "Index(['basin_id', 'id', 'node', 'distance_from_outlet', 'elevation',\n",
       "       'drainage_area', 'stream_order', 'slope', 'latitude', 'longitude',\n",
       "       'new_id', 'fault_dist', 'direction'],\n",
       "      dtype='object')"
      ]
     },
     "execution_count": 3,
     "metadata": {},
     "output_type": "execute_result"
    }
   ],
   "source": [
    "# read in the river profile CSV\n",
    "data_dir = '/media/TopographicData/TopographicData/san_andreas/SAF_combined/SAF_only/'\n",
    "df = pd.read_csv(data_dir+'SAF_only_profiles_fault_dist_SO3.csv')\n",
    "df = df[df['slope'] > 0]\n",
    "df.columns"
   ]
  },
  {
   "cell_type": "code",
   "execution_count": 4,
   "metadata": {},
   "outputs": [],
   "source": [
    "# read in the hillslope metrics CSV\n",
    "hs_df = pd.read_csv(data_dir+'SAF_only_hillslopes_SO3.csv')"
   ]
  },
  {
   "cell_type": "code",
   "execution_count": 6,
   "metadata": {},
   "outputs": [],
   "source": [
    "# read in the hilltop metrics CSV\n",
    "ht_df = pd.read_csv(data_dir+'SAF_only_RidgeData_SO3.csv')"
   ]
  },
  {
   "cell_type": "code",
   "execution_count": 8,
   "metadata": {},
   "outputs": [],
   "source": [
    "# convert the river csv to a geodataframe. Remove the non-unique ID labels - these will be replaced by unique basin IDs\n",
    "geometry = [Point(xy) for xy in zip(df.longitude, df.latitude)]\n",
    "crs = 'epsg:4326' #http://www.spatialreference.org/ref/epsg/2263/\n",
    "river_gdf = gpd.GeoDataFrame(df.drop(['latitude','longitude','basin_id','id','new_id','node'], axis=1), crs=crs, geometry=geometry)"
   ]
  },
  {
   "cell_type": "code",
   "execution_count": 9,
   "metadata": {},
   "outputs": [],
   "source": [
    "# convert the hillslope csv to a geodataframe. Remove the non-unique ID labels\n",
    "geometry = [Point(xy) for xy in zip(hs_df.longitude, hs_df.latitude)]\n",
    "hs_gdf = gpd.GeoDataFrame(hs_df.drop(['latitude','longitude','basin_id','new_id'], axis=1), crs=crs, geometry=geometry)"
   ]
  },
  {
   "cell_type": "code",
   "execution_count": 10,
   "metadata": {},
   "outputs": [],
   "source": [
    "# convert the hilltop csv to a geodataframe. Remove the non-unique ID labels\n",
    "geometry = [Point(xy) for xy in zip(ht_df.longitude, ht_df.latitude)]\n",
    "ht_gdf = gpd.GeoDataFrame(ht_df.drop(['latitude','longitude','basin_id','new_id'], axis=1), crs=crs, geometry=geometry)"
   ]
  },
  {
   "cell_type": "code",
   "execution_count": 12,
   "metadata": {},
   "outputs": [],
   "source": [
    "# add a unique id to the basin\n",
    "basin_gdf = gpd.read_file(data_dir+'SAF_only_basins_deflection.shp')\n",
    "basin_gdf = basin_gdf.drop(['basin_id'], axis=1)\n",
    "basin_gdf['unique_id'] = basin_gdf.index"
   ]
  },
  {
   "cell_type": "code",
   "execution_count": 14,
   "metadata": {},
   "outputs": [],
   "source": [
    "# merge the river and basins gdf and calculate the median channel slope in each basin\n",
    "join = gpd.sjoin(river_gdf, basin_gdf, how='left', op='intersects')"
   ]
  },
  {
   "cell_type": "code",
   "execution_count": 14,
   "metadata": {},
   "outputs": [],
   "source": [
    "gr = join.groupby(['unique_id'])['slope'].agg(['median', 'std', percentile(16), percentile(84)]).rename(columns={'median': 'channel_slope_median', 'std': 'channel_slope_std', 'percentile_16': 'channel_slope_16th', 'percentile_84': 'channel_slope_84th'}).reset_index()"
   ]
  },
  {
   "cell_type": "code",
   "execution_count": 15,
   "metadata": {},
   "outputs": [],
   "source": [
    "basin_gdf = basin_gdf.merge(gr, on='unique_id')"
   ]
  },
  {
   "cell_type": "code",
   "execution_count": 29,
   "metadata": {},
   "outputs": [],
   "source": [
    "# now join the hillslope data\n",
    "join = gpd.sjoin(basin_gdf, hs_gdf, how='left', op='contains')"
   ]
  },
  {
   "cell_type": "code",
   "execution_count": 30,
   "metadata": {},
   "outputs": [
    {
     "data": {
      "text/html": [
       "<div>\n",
       "<style scoped>\n",
       "    .dataframe tbody tr th:only-of-type {\n",
       "        vertical-align: middle;\n",
       "    }\n",
       "\n",
       "    .dataframe tbody tr th {\n",
       "        vertical-align: top;\n",
       "    }\n",
       "\n",
       "    .dataframe thead th {\n",
       "        text-align: right;\n",
       "    }\n",
       "</style>\n",
       "<table border=\"1\" class=\"dataframe\">\n",
       "  <thead>\n",
       "    <tr style=\"text-align: right;\">\n",
       "      <th></th>\n",
       "      <th>basin_area</th>\n",
       "      <th>azimuth</th>\n",
       "      <th>deflection</th>\n",
       "      <th>latitude</th>\n",
       "      <th>longitude</th>\n",
       "      <th>fault_dist</th>\n",
       "      <th>direction</th>\n",
       "      <th>geometry</th>\n",
       "      <th>unique_id</th>\n",
       "      <th>channel_slope_median</th>\n",
       "      <th>channel_slope_std</th>\n",
       "      <th>channel_slope_16th</th>\n",
       "      <th>channel_slope_q2</th>\n",
       "      <th>index_right</th>\n",
       "      <th>slope_median</th>\n",
       "      <th>slope_16th</th>\n",
       "      <th>slope_84th</th>\n",
       "    </tr>\n",
       "  </thead>\n",
       "  <tbody>\n",
       "    <tr>\n",
       "      <th>0</th>\n",
       "      <td>5.548658e-06</td>\n",
       "      <td>7.964627</td>\n",
       "      <td>50.894860</td>\n",
       "      <td>39.021498</td>\n",
       "      <td>-123.698779</td>\n",
       "      <td>117.191340</td>\n",
       "      <td>-0.000335</td>\n",
       "      <td>POLYGON ((-123.69878 39.02150, -123.69877 39.0...</td>\n",
       "      <td>1</td>\n",
       "      <td>0.000503</td>\n",
       "      <td>0.000016</td>\n",
       "      <td>0.000490</td>\n",
       "      <td>0.000517</td>\n",
       "      <td>2372.0</td>\n",
       "      <td>0.011662</td>\n",
       "      <td>0.000707</td>\n",
       "      <td>0.062896</td>\n",
       "    </tr>\n",
       "    <tr>\n",
       "      <th>1</th>\n",
       "      <td>1.887165e-06</td>\n",
       "      <td>304.337516</td>\n",
       "      <td>21.060099</td>\n",
       "      <td>39.019370</td>\n",
       "      <td>-123.709397</td>\n",
       "      <td>117.191340</td>\n",
       "      <td>-0.000131</td>\n",
       "      <td>POLYGON ((-123.70842 39.02008, -123.70840 39.0...</td>\n",
       "      <td>2</td>\n",
       "      <td>0.000512</td>\n",
       "      <td>0.000450</td>\n",
       "      <td>0.000493</td>\n",
       "      <td>0.001102</td>\n",
       "      <td>2373.0</td>\n",
       "      <td>0.023138</td>\n",
       "      <td>0.000871</td>\n",
       "      <td>0.056654</td>\n",
       "    </tr>\n",
       "    <tr>\n",
       "      <th>2</th>\n",
       "      <td>7.280988e-06</td>\n",
       "      <td>346.132682</td>\n",
       "      <td>23.177698</td>\n",
       "      <td>39.019973</td>\n",
       "      <td>-123.703650</td>\n",
       "      <td>117.191340</td>\n",
       "      <td>-0.000233</td>\n",
       "      <td>POLYGON ((-123.70366 39.01998, -123.70364 39.0...</td>\n",
       "      <td>4</td>\n",
       "      <td>0.000503</td>\n",
       "      <td>0.000034</td>\n",
       "      <td>0.000479</td>\n",
       "      <td>0.000537</td>\n",
       "      <td>2375.0</td>\n",
       "      <td>0.002597</td>\n",
       "      <td>0.000705</td>\n",
       "      <td>0.027232</td>\n",
       "    </tr>\n",
       "    <tr>\n",
       "      <th>3</th>\n",
       "      <td>7.925956e-06</td>\n",
       "      <td>314.561815</td>\n",
       "      <td>11.609073</td>\n",
       "      <td>39.019973</td>\n",
       "      <td>-123.703627</td>\n",
       "      <td>117.191340</td>\n",
       "      <td>-0.000234</td>\n",
       "      <td>POLYGON ((-123.70208 39.02186, -123.70207 39.0...</td>\n",
       "      <td>5</td>\n",
       "      <td>0.000513</td>\n",
       "      <td>0.000781</td>\n",
       "      <td>0.000482</td>\n",
       "      <td>0.000584</td>\n",
       "      <td>2371.0</td>\n",
       "      <td>0.014578</td>\n",
       "      <td>0.000708</td>\n",
       "      <td>0.049056</td>\n",
       "    </tr>\n",
       "    <tr>\n",
       "      <th>4</th>\n",
       "      <td>2.133768e-06</td>\n",
       "      <td>87.725781</td>\n",
       "      <td>50.831639</td>\n",
       "      <td>39.016151</td>\n",
       "      <td>-123.694868</td>\n",
       "      <td>117.191340</td>\n",
       "      <td>-0.000322</td>\n",
       "      <td>POLYGON ((-123.69568 39.01741, -123.69565 39.0...</td>\n",
       "      <td>7</td>\n",
       "      <td>0.000502</td>\n",
       "      <td>0.001032</td>\n",
       "      <td>0.000489</td>\n",
       "      <td>0.001981</td>\n",
       "      <td>2376.0</td>\n",
       "      <td>0.013362</td>\n",
       "      <td>0.000708</td>\n",
       "      <td>0.044648</td>\n",
       "    </tr>\n",
       "    <tr>\n",
       "      <th>...</th>\n",
       "      <td>...</td>\n",
       "      <td>...</td>\n",
       "      <td>...</td>\n",
       "      <td>...</td>\n",
       "      <td>...</td>\n",
       "      <td>...</td>\n",
       "      <td>...</td>\n",
       "      <td>...</td>\n",
       "      <td>...</td>\n",
       "      <td>...</td>\n",
       "      <td>...</td>\n",
       "      <td>...</td>\n",
       "      <td>...</td>\n",
       "      <td>...</td>\n",
       "      <td>...</td>\n",
       "      <td>...</td>\n",
       "      <td>...</td>\n",
       "    </tr>\n",
       "    <tr>\n",
       "      <th>18042</th>\n",
       "      <td>3.289491e-06</td>\n",
       "      <td>125.925873</td>\n",
       "      <td>3.998710</td>\n",
       "      <td>33.932735</td>\n",
       "      <td>-116.459241</td>\n",
       "      <td>1007.734905</td>\n",
       "      <td>-0.000023</td>\n",
       "      <td>POLYGON ((-116.46134 33.93553, -116.46132 33.9...</td>\n",
       "      <td>20603</td>\n",
       "      <td>0.022872</td>\n",
       "      <td>0.008700</td>\n",
       "      <td>0.017769</td>\n",
       "      <td>0.031185</td>\n",
       "      <td>15177.0</td>\n",
       "      <td>0.036326</td>\n",
       "      <td>0.021324</td>\n",
       "      <td>0.143496</td>\n",
       "    </tr>\n",
       "    <tr>\n",
       "      <th>18043</th>\n",
       "      <td>1.460510e-06</td>\n",
       "      <td>229.354705</td>\n",
       "      <td>62.701008</td>\n",
       "      <td>33.932268</td>\n",
       "      <td>-116.470064</td>\n",
       "      <td>1007.734905</td>\n",
       "      <td>0.000105</td>\n",
       "      <td>POLYGON ((-116.46657 33.93504, -116.46655 33.9...</td>\n",
       "      <td>20604</td>\n",
       "      <td>0.028505</td>\n",
       "      <td>0.006440</td>\n",
       "      <td>0.020721</td>\n",
       "      <td>0.035488</td>\n",
       "      <td>NaN</td>\n",
       "      <td>NaN</td>\n",
       "      <td>NaN</td>\n",
       "      <td>NaN</td>\n",
       "    </tr>\n",
       "    <tr>\n",
       "      <th>18044</th>\n",
       "      <td>9.758000e-11</td>\n",
       "      <td>88.654369</td>\n",
       "      <td>28.652033</td>\n",
       "      <td>33.932268</td>\n",
       "      <td>-116.470064</td>\n",
       "      <td>1007.734905</td>\n",
       "      <td>0.000105</td>\n",
       "      <td>POLYGON ((-116.47007 33.93227, -116.47006 33.9...</td>\n",
       "      <td>20605</td>\n",
       "      <td>0.030096</td>\n",
       "      <td>NaN</td>\n",
       "      <td>0.030096</td>\n",
       "      <td>0.030096</td>\n",
       "      <td>15178.0</td>\n",
       "      <td>0.037938</td>\n",
       "      <td>0.026838</td>\n",
       "      <td>0.052327</td>\n",
       "    </tr>\n",
       "    <tr>\n",
       "      <th>18045</th>\n",
       "      <td>1.844055e-06</td>\n",
       "      <td>179.439410</td>\n",
       "      <td>63.138660</td>\n",
       "      <td>33.930297</td>\n",
       "      <td>-116.462697</td>\n",
       "      <td>1007.734905</td>\n",
       "      <td>0.000060</td>\n",
       "      <td>POLYGON ((-116.46319 33.93268, -116.46315 33.9...</td>\n",
       "      <td>20606</td>\n",
       "      <td>0.122196</td>\n",
       "      <td>0.137834</td>\n",
       "      <td>0.023186</td>\n",
       "      <td>0.308220</td>\n",
       "      <td>15183.0</td>\n",
       "      <td>0.264323</td>\n",
       "      <td>0.077764</td>\n",
       "      <td>0.380089</td>\n",
       "    </tr>\n",
       "    <tr>\n",
       "      <th>18046</th>\n",
       "      <td>4.664999e-06</td>\n",
       "      <td>135.001500</td>\n",
       "      <td>12.878258</td>\n",
       "      <td>33.930288</td>\n",
       "      <td>-116.462708</td>\n",
       "      <td>1007.734905</td>\n",
       "      <td>0.000061</td>\n",
       "      <td>POLYGON ((-116.46489 33.93304, -116.46486 33.9...</td>\n",
       "      <td>20607</td>\n",
       "      <td>0.029050</td>\n",
       "      <td>0.106117</td>\n",
       "      <td>0.021065</td>\n",
       "      <td>0.195967</td>\n",
       "      <td>15182.0</td>\n",
       "      <td>0.208197</td>\n",
       "      <td>0.042689</td>\n",
       "      <td>0.466577</td>\n",
       "    </tr>\n",
       "  </tbody>\n",
       "</table>\n",
       "<p>19098 rows × 17 columns</p>\n",
       "</div>"
      ],
      "text/plain": [
       "         basin_area     azimuth  deflection   latitude   longitude  \\\n",
       "0      5.548658e-06    7.964627   50.894860  39.021498 -123.698779   \n",
       "1      1.887165e-06  304.337516   21.060099  39.019370 -123.709397   \n",
       "2      7.280988e-06  346.132682   23.177698  39.019973 -123.703650   \n",
       "3      7.925956e-06  314.561815   11.609073  39.019973 -123.703627   \n",
       "4      2.133768e-06   87.725781   50.831639  39.016151 -123.694868   \n",
       "...             ...         ...         ...        ...         ...   \n",
       "18042  3.289491e-06  125.925873    3.998710  33.932735 -116.459241   \n",
       "18043  1.460510e-06  229.354705   62.701008  33.932268 -116.470064   \n",
       "18044  9.758000e-11   88.654369   28.652033  33.932268 -116.470064   \n",
       "18045  1.844055e-06  179.439410   63.138660  33.930297 -116.462697   \n",
       "18046  4.664999e-06  135.001500   12.878258  33.930288 -116.462708   \n",
       "\n",
       "        fault_dist  direction  \\\n",
       "0       117.191340  -0.000335   \n",
       "1       117.191340  -0.000131   \n",
       "2       117.191340  -0.000233   \n",
       "3       117.191340  -0.000234   \n",
       "4       117.191340  -0.000322   \n",
       "...            ...        ...   \n",
       "18042  1007.734905  -0.000023   \n",
       "18043  1007.734905   0.000105   \n",
       "18044  1007.734905   0.000105   \n",
       "18045  1007.734905   0.000060   \n",
       "18046  1007.734905   0.000061   \n",
       "\n",
       "                                                geometry  unique_id  \\\n",
       "0      POLYGON ((-123.69878 39.02150, -123.69877 39.0...          1   \n",
       "1      POLYGON ((-123.70842 39.02008, -123.70840 39.0...          2   \n",
       "2      POLYGON ((-123.70366 39.01998, -123.70364 39.0...          4   \n",
       "3      POLYGON ((-123.70208 39.02186, -123.70207 39.0...          5   \n",
       "4      POLYGON ((-123.69568 39.01741, -123.69565 39.0...          7   \n",
       "...                                                  ...        ...   \n",
       "18042  POLYGON ((-116.46134 33.93553, -116.46132 33.9...      20603   \n",
       "18043  POLYGON ((-116.46657 33.93504, -116.46655 33.9...      20604   \n",
       "18044  POLYGON ((-116.47007 33.93227, -116.47006 33.9...      20605   \n",
       "18045  POLYGON ((-116.46319 33.93268, -116.46315 33.9...      20606   \n",
       "18046  POLYGON ((-116.46489 33.93304, -116.46486 33.9...      20607   \n",
       "\n",
       "       channel_slope_median  channel_slope_std  channel_slope_16th  \\\n",
       "0                  0.000503           0.000016            0.000490   \n",
       "1                  0.000512           0.000450            0.000493   \n",
       "2                  0.000503           0.000034            0.000479   \n",
       "3                  0.000513           0.000781            0.000482   \n",
       "4                  0.000502           0.001032            0.000489   \n",
       "...                     ...                ...                 ...   \n",
       "18042              0.022872           0.008700            0.017769   \n",
       "18043              0.028505           0.006440            0.020721   \n",
       "18044              0.030096                NaN            0.030096   \n",
       "18045              0.122196           0.137834            0.023186   \n",
       "18046              0.029050           0.106117            0.021065   \n",
       "\n",
       "       channel_slope_q2  index_right  slope_median  slope_16th  slope_84th  \n",
       "0              0.000517       2372.0      0.011662    0.000707    0.062896  \n",
       "1              0.001102       2373.0      0.023138    0.000871    0.056654  \n",
       "2              0.000537       2375.0      0.002597    0.000705    0.027232  \n",
       "3              0.000584       2371.0      0.014578    0.000708    0.049056  \n",
       "4              0.001981       2376.0      0.013362    0.000708    0.044648  \n",
       "...                 ...          ...           ...         ...         ...  \n",
       "18042          0.031185      15177.0      0.036326    0.021324    0.143496  \n",
       "18043          0.035488          NaN           NaN         NaN         NaN  \n",
       "18044          0.030096      15178.0      0.037938    0.026838    0.052327  \n",
       "18045          0.308220      15183.0      0.264323    0.077764    0.380089  \n",
       "18046          0.195967      15182.0      0.208197    0.042689    0.466577  \n",
       "\n",
       "[19098 rows x 17 columns]"
      ]
     },
     "execution_count": 30,
     "metadata": {},
     "output_type": "execute_result"
    }
   ],
   "source": [
    "join"
   ]
  },
  {
   "cell_type": "code",
   "execution_count": null,
   "metadata": {},
   "outputs": [],
   "source": [
    "# now join the hilltop data - find points within the basin and get the median curvature in each basin\n",
    "ht_join = gpd.sjoin(ht_gdf, join, how='left', op='within')\n",
    "gr = ht_join.groupby(['unique_id'])['curvature'].agg(['median', 'std', percentile(16), percentile(84)]).rename(columns={'median': 'ht_curv_median', 'std': 'ht_curv_std', 'percentile_16': 'ht_curv_16th', 'percentile_84': 'ht_curv_84th'}).reset_index()"
   ]
  },
  {
   "cell_type": "code",
   "execution_count": null,
   "metadata": {},
   "outputs": [],
   "source": [
    "gr"
   ]
  },
  {
   "cell_type": "code",
   "execution_count": null,
   "metadata": {},
   "outputs": [],
   "source": [
    "join = join.merge(gr, on='unique_id')"
   ]
  },
  {
   "cell_type": "code",
   "execution_count": 31,
   "metadata": {},
   "outputs": [
    {
     "data": {
      "text/plain": [
       "18047"
      ]
     },
     "execution_count": 31,
     "metadata": {},
     "output_type": "execute_result"
    }
   ],
   "source": [
    "len(join.unique_id.unique())"
   ]
  },
  {
   "cell_type": "code",
   "execution_count": 32,
   "metadata": {},
   "outputs": [],
   "source": [
    "join.to_file(data_dir+'SAF_only_channels_plus_hilltops_by_basin_SO3.shp')"
   ]
  },
  {
   "cell_type": "code",
   "execution_count": 27,
   "metadata": {},
   "outputs": [
    {
     "data": {
      "text/plain": [
       "18047"
      ]
     },
     "execution_count": 27,
     "metadata": {},
     "output_type": "execute_result"
    }
   ],
   "source": [
    "len(join)"
   ]
  },
  {
   "cell_type": "code",
   "execution_count": null,
   "metadata": {},
   "outputs": [],
   "source": []
  }
 ],
 "metadata": {
  "kernelspec": {
   "display_name": "Python 3",
   "language": "python",
   "name": "python3"
  },
  "language_info": {
   "codemirror_mode": {
    "name": "ipython",
    "version": 3
   },
   "file_extension": ".py",
   "mimetype": "text/x-python",
   "name": "python",
   "nbconvert_exporter": "python",
   "pygments_lexer": "ipython3",
   "version": "3.8.5"
  }
 },
 "nbformat": 4,
 "nbformat_minor": 4
}
