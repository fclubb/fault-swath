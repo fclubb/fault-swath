{
 "cells": [
  {
   "cell_type": "markdown",
   "metadata": {},
   "source": [
    "# San Andreas fault seismic analysis\n",
    "\n",
    "Fiona Clubb, 18/06/20\n",
    "\n",
    "This is a script to download earthquake data from USGS ComCat.\n",
    "Firstly it downloads the earthquake events within the specific locations bounds and with the magnitude filters.\n",
    "Then it gets the focal mechanism for each one, which could be used to work out fault orientation.\n",
    "\n",
    "Uses the libcomcat python wrappers (https://github.com/usgs/libcomcat) and associated jupyter notebooks."
   ]
  },
  {
   "cell_type": "code",
   "execution_count": 46,
   "metadata": {},
   "outputs": [],
   "source": [
    "%matplotlib inline"
   ]
  },
  {
   "cell_type": "code",
   "execution_count": 47,
   "metadata": {},
   "outputs": [],
   "source": [
    "# stdlib imports\n",
    "from datetime import datetime\n",
    "from time import time\n",
    "\n",
    "# Third party imports\n",
    "import matplotlib.pyplot as plt\n",
    "from obspy.geodetics.base import gps2dist_azimuth\n",
    "import pandas as pd\n",
    "from IPython.display import display, HTML\n",
    "\n",
    "# Local imports\n",
    "from libcomcat.dataframes import get_detail_data_frame\n",
    "from libcomcat.search import (get_event_by_id, get_authoritative_info, search)"
   ]
  },
  {
   "cell_type": "markdown",
   "metadata": {},
   "source": [
    "## Get the ComCat data\n",
    "\n",
    "The first step is to download the general earthquake data from the ComCat database. We set the latitude and longitude bounds of the study area and the minimum and maximum magnitude for analysis."
   ]
  },
  {
   "cell_type": "code",
   "execution_count": 48,
   "metadata": {},
   "outputs": [],
   "source": [
    "# latitude and longitude bounds\n",
    "bounds = [-125.2, -115.312, 32.946, 40.84]\n",
    "\n",
    "# start/end times for analysis\n",
    "stime = datetime(1980,1,1)\n",
    "etime = datetime.utcnow()\n",
    "\n",
    "# magnitude range\n",
    "minmag = 4.5\n",
    "maxmag = 9.9"
   ]
  },
  {
   "cell_type": "markdown",
   "metadata": {},
   "source": [
    "We use the `search` function to get a list of all events matching the criteria above, and then the `get_detail_data_frame` function. This gives a lot of information about each earthquake including the latitude, longitude, depth, magnitude, and focal mechanism information."
   ]
  },
  {
   "cell_type": "code",
   "execution_count": 49,
   "metadata": {
    "scrolled": true
   },
   "outputs": [
    {
     "name": "stdout",
     "output_type": "stream",
     "text": [
      "Number of events: 64927\n"
     ]
    }
   ],
   "source": [
    "# Retrieve list of events\n",
    "eventlist = search(starttime=stime,\n",
    "                  endtime=etime,\n",
    "                  minlatitude=bounds[2],\n",
    "                  maxlatitude=bounds[3],\n",
    "                  minlongitude=bounds[0],\n",
    "                  maxlongitude=bounds[1],\n",
    "                  minmagnitude=minmag,\n",
    "                  maxmagnitude=maxmag,\n",
    "                  eventtype='earthquake')\n",
    "print(\"Number of events:\", len(eventlist))"
   ]
  },
  {
   "cell_type": "code",
   "execution_count": null,
   "metadata": {},
   "outputs": [],
   "source": [
    "# get the detailed dataframe for these events\n",
    "df = get_detail_data_frame(eventlist)\n",
    "# print the first 10 rows\n",
    "display(HTML(df[0:10].to_html()))"
   ]
  },
  {
   "cell_type": "markdown",
   "metadata": {},
   "source": [
    "## Plotting\n",
    "We could make a load of plots. For now, let's just plot the magnitude of the earthquakes compared to latitude. We can also colour them by the depth."
   ]
  },
  {
   "cell_type": "code",
   "execution_count": null,
   "metadata": {
    "scrolled": true
   },
   "outputs": [],
   "source": [
    "plt.scatter(df['latitude'], df['magnitude'], c=df['depth'])\n",
    "plt.xlabel('Latitude ($^\\circ$)')\n",
    "plt.ylabel('Magnitude (Mw)')\n",
    "plt.colorbar(label='Depth (km)')"
   ]
  },
  {
   "cell_type": "markdown",
   "metadata": {},
   "source": [
    "## Output\n",
    "\n",
    "We can then write the dataframe to csv so that we can read it in for the fault analysis"
   ]
  },
  {
   "cell_type": "code",
   "execution_count": null,
   "metadata": {},
   "outputs": [],
   "source": [
    "DataDirectory='/home/bjdd72/TopographicData/TopographicData/san_andreas/Earthquakes/'\n",
    "df.to_csv(DataDirectory+'California_earthquakes_1900-2020_Mw4-5+.csv',index=False)"
   ]
  }
 ],
 "metadata": {
  "kernelspec": {
   "display_name": "Python 3",
   "language": "python",
   "name": "python3"
  },
  "language_info": {
   "codemirror_mode": {
    "name": "ipython",
    "version": 3
   },
   "file_extension": ".py",
   "mimetype": "text/x-python",
   "name": "python",
   "nbconvert_exporter": "python",
   "pygments_lexer": "ipython3",
   "version": "3.8.3"
  }
 },
 "nbformat": 4,
 "nbformat_minor": 4
}
